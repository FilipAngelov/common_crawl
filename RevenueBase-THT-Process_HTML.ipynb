{
 "cells": [
  {
   "cell_type": "markdown",
   "id": "68a953fc",
   "metadata": {},
   "source": [
    "# RevenueBase-THT\n",
    "\n",
    "## Process HTML"
   ]
  },
  {
   "cell_type": "markdown",
   "id": "41b60102",
   "metadata": {},
   "source": [
    "#### Load WARC files"
   ]
  },
  {
   "cell_type": "code",
   "execution_count": 6,
   "id": "0746847d",
   "metadata": {},
   "outputs": [],
   "source": [
    "def open_response(url_pickle_filepath): #(url_pickle_filepath=f\"responses_{domain_url}.pickle\"):\n",
    "    with open(url_pickle_filepath, \"rb\") as f:\n",
    "        all_pages = pickle.load(f)\n",
    "    return all_pages"
   ]
  },
  {
   "cell_type": "code",
   "execution_count": 7,
   "id": "75a9bb72",
   "metadata": {},
   "outputs": [],
   "source": [
    "def warc_to_html_convertor(warc):\n",
    "    with io.BytesIO(warc.content) as stream:\n",
    "        for record in warcio.ArchiveIterator(stream):\n",
    "            html = record.content_stream().read()#.decode('utf-8')#.decode('unicode_escape') #(\"utf-8\")\n",
    "    return html"
   ]
  },
  {
   "cell_type": "code",
   "execution_count": 8,
   "id": "e247e295",
   "metadata": {},
   "outputs": [],
   "source": [
    "def load_html(url_pickle_filepath):\n",
    "    all_pages = open_response(url_pickle_filepath)\n",
    "    for page in all_pages:\n",
    "        html = warc_to_html_convertor(page)\n",
    "        \n",
    "    return html"
   ]
  },
  {
   "cell_type": "code",
   "execution_count": 9,
   "id": "67971604",
   "metadata": {},
   "outputs": [],
   "source": [
    "def print_response_as_html(html):\n",
    "    soup = BeautifulSoup(html, 'html')\n",
    "    print(soup.prettify())"
   ]
  },
  {
   "cell_type": "markdown",
   "id": "949dab94",
   "metadata": {},
   "source": [
    "#### Analyze WARC files"
   ]
  },
  {
   "cell_type": "code",
   "execution_count": 10,
   "id": "97b0a055",
   "metadata": {},
   "outputs": [],
   "source": [
    "def extract_metadata(html, warc_pickle_name):\n",
    "    metadata = extruct.extract(\n",
    "                        html,\n",
    "                        base_url=get_base_url(html, warc_pickle_name),\n",
    "                        syntaxes=['json-ld'],\n",
    "                    )['json-ld'][0]\n",
    "    return metadata"
   ]
  },
  {
   "cell_type": "code",
   "execution_count": 11,
   "id": "5f4456ab",
   "metadata": {},
   "outputs": [],
   "source": [
    "# Company Name QUERY (add this as a table record FINAL TABLE)\n",
    "\n",
    "def extract_name(metadata):\n",
    "    \n",
    "    try:\n",
    "        name = metadata['@graph'][0]['legalName']\n",
    "    except:\n",
    "        if len(metadata['publisher']['name'])>0:\n",
    "            name = metadata['publisher']['name']\n",
    "        elif len(metadata['legalName'])>0:\n",
    "            name = metadata['legalName']\n",
    "        else:\n",
    "            name = dict({name: 'no_legal_name_found'})\n",
    "    return name"
   ]
  },
  {
   "cell_type": "code",
   "execution_count": 12,
   "id": "6dbcbdca",
   "metadata": {},
   "outputs": [],
   "source": [
    "# add this as a table record FINAL TABLE\n",
    "\n",
    "def extract_address(metadata):\n",
    "    \n",
    "    try:\n",
    "        if len(metadata['@graph'][0]['address'])>0:\n",
    "            adrs = metadata['@graph'][0]['address']\n",
    "        elif len(metadata['contactPoint'][0])>0:\n",
    "            adrs = metadata['contactPoint'][0]\n",
    "    except:\n",
    "        adrs = 'no_contact_found'\n",
    "    \n",
    "    return adrs\n",
    "    "
   ]
  },
  {
   "cell_type": "code",
   "execution_count": 13,
   "id": "81abee25",
   "metadata": {},
   "outputs": [],
   "source": [
    "def find_links_on_webpage(html):\n",
    "    soup = BeautifulSoup(html, 'html.parser')\n",
    "    \n",
    "    links = []\n",
    "    for link in soup.find_all('a', attrs={'href': re.compile(\"^https://\")}):\n",
    "        links.append(link.get('href')) \n",
    "        \n",
    "    return links"
   ]
  },
  {
   "cell_type": "code",
   "execution_count": 14,
   "id": "d617e65f",
   "metadata": {},
   "outputs": [],
   "source": [
    "def is_app_available(links):\n",
    "    matching = [True for link in links if \"play.google\" in link.lower() or 'apps.apple' in link.lower()]\n",
    "    any_matching = any(x == True for x in matching)\n",
    "    return any_matching"
   ]
  },
  {
   "cell_type": "code",
   "execution_count": 15,
   "id": "dbfb7f15",
   "metadata": {},
   "outputs": [],
   "source": [
    "def is_demo_available(links):\n",
    "    matching = [True for link in links if \"demo\" in link.lower()] #this could be improved as current \"demo\" regex lookup will return True if demo is a partial word as for ex. democracy \n",
    "    any_matching = any(x == True for x in matching)\n",
    "    return any_matching"
   ]
  },
  {
   "cell_type": "code",
   "execution_count": 16,
   "id": "6a76024b",
   "metadata": {},
   "outputs": [],
   "source": [
    "def process_warc(domain_list):\n",
    "    \n",
    "    results = []\n",
    "    \n",
    "    for domain in domain_list:\n",
    "        warc_pickle_name = f\"responses_{domain}.pickle\"\n",
    "        html = load_html(warc_pickle_name)\n",
    "        \n",
    "        # get metadata from html\n",
    "        metadata = extract_metadata(html, warc_pickle_name)\n",
    "        # extract name\n",
    "        name = extract_name(metadata)\n",
    "        # extract address\n",
    "        address = extract_address(metadata)\n",
    "        \n",
    "        # find links on domain page\n",
    "        links = find_links_on_webpage(html)\n",
    "        # is there a demo\n",
    "        is_demo = is_demo_available(links)\n",
    "        # is there an app\n",
    "        is_app = is_app_available(links)\n",
    "        \n",
    "        results.append([domain, name, address, is_demo, is_app ])\n",
    "        \n",
    "    return results"
   ]
  },
  {
   "cell_type": "code",
   "execution_count": 17,
   "id": "d77d8905",
   "metadata": {},
   "outputs": [
    {
     "data": {
      "text/plain": [
       "[['blogspot.com', 'Blogger', 'no_contact_found', False, False],\n",
       " ['wordpress.com',\n",
       "  'Automattic, Inc.',\n",
       "  {'@type': 'PostalAddress',\n",
       "   'streetAddress': '60 29th Street #343',\n",
       "   'addressLocality': 'San Francisco',\n",
       "   'addressRegion': 'CA',\n",
       "   'postalCode': '94110',\n",
       "   'addressCountry': 'US'},\n",
       "  False,\n",
       "  True]]"
      ]
     },
     "execution_count": 17,
     "metadata": {},
     "output_type": "execute_result"
    }
   ],
   "source": [
    "resu = process_warc(domain_list[:2])\n",
    "resu"
   ]
  },
  {
   "cell_type": "code",
   "execution_count": 1,
   "id": "e8ca60bf",
   "metadata": {},
   "outputs": [
    {
     "ename": "NameError",
     "evalue": "name 'pd' is not defined",
     "output_type": "error",
     "traceback": [
      "\u001b[0;31m---------------------------------------------------------------------------\u001b[0m",
      "\u001b[0;31mNameError\u001b[0m                                 Traceback (most recent call last)",
      "\u001b[0;32m/var/folders/68/b9w4bnf10nv5rzds8p_sk9_r0000gn/T/ipykernel_141/2723048648.py\u001b[0m in \u001b[0;36m<module>\u001b[0;34m\u001b[0m\n\u001b[0;32m----> 1\u001b[0;31m \u001b[0mresults_df\u001b[0m \u001b[0;34m=\u001b[0m \u001b[0mpd\u001b[0m\u001b[0;34m.\u001b[0m\u001b[0mDataFrame\u001b[0m\u001b[0;34m(\u001b[0m\u001b[0mresu\u001b[0m\u001b[0;34m,\u001b[0m \u001b[0mcolumns\u001b[0m \u001b[0;34m=\u001b[0m \u001b[0;34m[\u001b[0m\u001b[0;34m'domain'\u001b[0m\u001b[0;34m,\u001b[0m \u001b[0;34m'company_name'\u001b[0m\u001b[0;34m,\u001b[0m \u001b[0;34m'contact'\u001b[0m\u001b[0;34m,\u001b[0m \u001b[0;34m'is_demo_available'\u001b[0m\u001b[0;34m,\u001b[0m \u001b[0;34m'is_app_available'\u001b[0m\u001b[0;34m]\u001b[0m\u001b[0;34m)\u001b[0m\u001b[0;34m\u001b[0m\u001b[0;34m\u001b[0m\u001b[0m\n\u001b[0m\u001b[1;32m      2\u001b[0m \u001b[0mresults_df\u001b[0m\u001b[0;34m\u001b[0m\u001b[0;34m\u001b[0m\u001b[0m\n",
      "\u001b[0;31mNameError\u001b[0m: name 'pd' is not defined"
     ]
    }
   ],
   "source": [
    "results_df = pd.DataFrame(resu, columns = ['domain', 'company_name', 'contact', 'is_demo_available', 'is_app_available']) \n"
   ]
  },
  {
   "cell_type": "code",
   "execution_count": null,
   "id": "5cec3c0d",
   "metadata": {},
   "outputs": [],
   "source": []
  }
 ],
 "metadata": {
  "kernelspec": {
   "display_name": "Python 3 (ipykernel)",
   "language": "python",
   "name": "python3"
  },
  "language_info": {
   "codemirror_mode": {
    "name": "ipython",
    "version": 3
   },
   "file_extension": ".py",
   "mimetype": "text/x-python",
   "name": "python",
   "nbconvert_exporter": "python",
   "pygments_lexer": "ipython3",
   "version": "3.9.7"
  }
 },
 "nbformat": 4,
 "nbformat_minor": 5
}
