{
 "cells": [
  {
   "cell_type": "markdown",
   "id": "f47f55f6",
   "metadata": {},
   "source": [
    "# RevenueBase-THT\n",
    "\n",
    "## Notebook_Setup"
   ]
  },
  {
   "cell_type": "code",
   "execution_count": 1,
   "id": "fe7403b7",
   "metadata": {},
   "outputs": [],
   "source": [
    "from pyspark.sql import SparkSession\n",
    "from pyspark.sql.types import StructType,StructField, StringType, IntegerType, BooleanType\n",
    "import pyspark.sql.functions as f\n",
    "from urllib.parse import urljoin\n",
    "import wget\n",
    "import requests\n",
    "import warcio\n",
    "from warcio.archiveiterator import ArchiveIterator\n",
    "import json\n",
    "import io\n",
    "import pickle\n",
    "from bs4 import BeautifulSoup\n",
    "import re\n",
    "import extruct\n",
    "from w3lib.html import get_base_url\n",
    "import time\n",
    "import pandas as pd"
   ]
  },
  {
   "cell_type": "code",
   "execution_count": 2,
   "id": "51a3e0d4",
   "metadata": {},
   "outputs": [
    {
     "name": "stderr",
     "output_type": "stream",
     "text": [
      "Setting default log level to \"WARN\".\n",
      "To adjust logging level use sc.setLogLevel(newLevel). For SparkR, use setLogLevel(newLevel).\n"
     ]
    },
    {
     "name": "stdout",
     "output_type": "stream",
     "text": [
      "22/12/29 11:59:45 WARN NativeCodeLoader: Unable to load native-hadoop library for your platform... using builtin-java classes where applicable\n",
      "22/12/29 11:59:45 WARN Utils: Service 'SparkUI' could not bind on port 4040. Attempting port 4041.\n"
     ]
    }
   ],
   "source": [
    "# Create or get a SparkSession\n",
    "spark = SparkSession.builder.appName('common_crawl_app').getOrCreate()"
   ]
  }
 ],
 "metadata": {
  "kernelspec": {
   "display_name": "Python 3 (ipykernel)",
   "language": "python",
   "name": "python3"
  },
  "language_info": {
   "codemirror_mode": {
    "name": "ipython",
    "version": 3
   },
   "file_extension": ".py",
   "mimetype": "text/x-python",
   "name": "python",
   "nbconvert_exporter": "python",
   "pygments_lexer": "ipython3",
   "version": "3.9.7"
  }
 },
 "nbformat": 4,
 "nbformat_minor": 5
}
