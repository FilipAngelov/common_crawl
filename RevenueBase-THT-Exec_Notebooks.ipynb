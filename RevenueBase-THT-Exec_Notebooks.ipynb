{
 "cells": [
  {
   "cell_type": "markdown",
   "id": "eb22257f",
   "metadata": {},
   "source": [
    "# RevenueBase-THT\n",
    "\n",
    "## Exec Notebook"
   ]
  },
  {
   "cell_type": "code",
   "execution_count": 11,
   "id": "cb0f1876",
   "metadata": {},
   "outputs": [],
   "source": [
    "# spark environment set-up and libraries import\n",
    "%run RevenueBase-THT-Notebook_Setup.ipynb "
   ]
  },
  {
   "cell_type": "code",
   "execution_count": 12,
   "id": "98205837",
   "metadata": {},
   "outputs": [],
   "source": [
    "# Input domains load/download  \n",
    "%run RevenueBase-THT-Input_Domain.ipynb"
   ]
  },
  {
   "cell_type": "code",
   "execution_count": null,
   "id": "90c19e7f",
   "metadata": {},
   "outputs": [],
   "source": [
    "# Get WARC file for domain\n",
    "%run RevenueBase-THT-Get_WARC.ipynb"
   ]
  },
  {
   "cell_type": "code",
   "execution_count": 15,
   "id": "e49200f7",
   "metadata": {},
   "outputs": [],
   "source": [
    "# Process HTML\n",
    "%run RevenueBase-THT-Process_HTML.ipynb"
   ]
  },
  {
   "cell_type": "code",
   "execution_count": 16,
   "id": "64c9449d",
   "metadata": {},
   "outputs": [
    {
     "data": {
      "text/html": [
       "<div>\n",
       "<style scoped>\n",
       "    .dataframe tbody tr th:only-of-type {\n",
       "        vertical-align: middle;\n",
       "    }\n",
       "\n",
       "    .dataframe tbody tr th {\n",
       "        vertical-align: top;\n",
       "    }\n",
       "\n",
       "    .dataframe thead th {\n",
       "        text-align: right;\n",
       "    }\n",
       "</style>\n",
       "<table border=\"1\" class=\"dataframe\">\n",
       "  <thead>\n",
       "    <tr style=\"text-align: right;\">\n",
       "      <th></th>\n",
       "      <th>domain</th>\n",
       "      <th>company_name</th>\n",
       "      <th>contact</th>\n",
       "      <th>is_demo_available</th>\n",
       "      <th>is_app_available</th>\n",
       "    </tr>\n",
       "  </thead>\n",
       "  <tbody>\n",
       "    <tr>\n",
       "      <th>0</th>\n",
       "      <td>blogspot.com</td>\n",
       "      <td>Blogger</td>\n",
       "      <td>no_contact_found</td>\n",
       "      <td>False</td>\n",
       "      <td>False</td>\n",
       "    </tr>\n",
       "    <tr>\n",
       "      <th>1</th>\n",
       "      <td>wordpress.com</td>\n",
       "      <td>Automattic, Inc.</td>\n",
       "      <td>{'@type': 'PostalAddress', 'streetAddress': '6...</td>\n",
       "      <td>False</td>\n",
       "      <td>True</td>\n",
       "    </tr>\n",
       "  </tbody>\n",
       "</table>\n",
       "</div>"
      ],
      "text/plain": [
       "          domain      company_name  \\\n",
       "0   blogspot.com           Blogger   \n",
       "1  wordpress.com  Automattic, Inc.   \n",
       "\n",
       "                                             contact  is_demo_available  \\\n",
       "0                                   no_contact_found              False   \n",
       "1  {'@type': 'PostalAddress', 'streetAddress': '6...              False   \n",
       "\n",
       "   is_app_available  \n",
       "0             False  \n",
       "1              True  "
      ]
     },
     "execution_count": 16,
     "metadata": {},
     "output_type": "execute_result"
    }
   ],
   "source": [
    "results_df"
   ]
  },
  {
   "cell_type": "code",
   "execution_count": null,
   "id": "a6b3d138",
   "metadata": {},
   "outputs": [],
   "source": []
  }
 ],
 "metadata": {
  "kernelspec": {
   "display_name": "Python 3 (ipykernel)",
   "language": "python",
   "name": "python3"
  },
  "language_info": {
   "codemirror_mode": {
    "name": "ipython",
    "version": 3
   },
   "file_extension": ".py",
   "mimetype": "text/x-python",
   "name": "python",
   "nbconvert_exporter": "python",
   "pygments_lexer": "ipython3",
   "version": "3.9.7"
  }
 },
 "nbformat": 4,
 "nbformat_minor": 5
}
